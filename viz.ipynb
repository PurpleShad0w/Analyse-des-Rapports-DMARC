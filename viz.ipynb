{
 "cells": [
  {
   "cell_type": "code",
   "execution_count": null,
   "metadata": {},
   "outputs": [],
   "source": [
    "import mysql.connector\n",
    "import pandas as pd\n",
    "from plotly.subplots import make_subplots\n",
    "import plotly.graph_objects as go\n",
    "import plotly.express as px\n",
    "import numpy as np\n",
    "import folium\n",
    "\n",
    "import warnings\n",
    "warnings.simplefilter('ignore')"
   ]
  },
  {
   "cell_type": "code",
   "execution_count": null,
   "metadata": {},
   "outputs": [],
   "source": [
    "with open('user.txt', 'r') as file:\n",
    "    user, pwd = file.read().split('\\n')\n",
    "\n",
    "mydb = mysql.connector.connect(host=\"localhost\", user=user, password=pwd, database='DMARC')\n",
    "mycursor = mydb.cursor()\n",
    "database = pd.read_sql('SELECT * FROM RUA', mydb)"
   ]
  },
  {
   "cell_type": "code",
   "execution_count": null,
   "metadata": {},
   "outputs": [],
   "source": [
    "sum(database['count'])"
   ]
  },
  {
   "cell_type": "code",
   "execution_count": null,
   "metadata": {},
   "outputs": [],
   "source": [
    "spf = database['spf_aligned'].value_counts().rename_axis('labels').reset_index(name='count')\n",
    "if len(spf) == 2:\n",
    "    spf_aligned = [spf['count'][0], spf['count'][1]]\n",
    "elif len(spf) == 1 and spf['labels'][0] == '0':\n",
    "    spf_aligned = [spf['count'][0], 0]\n",
    "elif len(spf) == 1 and spf['labels'][0] == '1':\n",
    "    spf_aligned = [0, spf['count'][0]]\n",
    "\n",
    "dkim = database['dkim_aligned'].value_counts().rename_axis('labels').reset_index(name='count')\n",
    "if len(dkim) == 2:\n",
    "    dkim_aligned = [dkim['count'][0], dkim['count'][1]]\n",
    "elif len(dkim) == 1 and dkim['labels'][0] == '0':\n",
    "    dkim_aligned = [dkim['count'][0], 0]\n",
    "elif len(dkim) == 1 and dkim['labels'][0] == '1':\n",
    "    dkim_aligned = [0, dkim['count'][0]]\n",
    "\n",
    "dmarc = database['dmarc_aligned'].value_counts().rename_axis('labels').reset_index(name='count')\n",
    "if len(dmarc) == 2:\n",
    "    dmarc_aligned = [dmarc['count'][0], dmarc['count'][1]]\n",
    "elif len(dmarc) == 1 and dmarc['labels'][0] == '0':\n",
    "    dmarc_aligned = [dmarc['count'][0], 0]\n",
    "elif len(dmarc) == 1 and dmarc['labels'][0] == '1':\n",
    "    dmarc_aligned = [0, dmarc['count'][0]]"
   ]
  },
  {
   "cell_type": "code",
   "execution_count": null,
   "metadata": {},
   "outputs": [],
   "source": [
    "fig = make_subplots(rows=1, cols=3, specs=[[{\"type\": \"pie\"}, {\"type\": \"pie\"}, {\"type\": \"pie\"}]], \n",
    "                    subplot_titles=('SPF Alignment', 'DKIM Alignment', 'DMARC Alignment'))\n",
    "\n",
    "fig.add_trace(go.Pie(values=spf_aligned, labels=['False','True'], domain=dict(x=[0, 0.5])), row=1, col=1)\n",
    "fig.add_trace(go.Pie(values=dkim_aligned, labels=['False','True'], domain=dict(x=[0, 0.5])), row=1, col=2)\n",
    "fig.add_trace(go.Pie(values=dmarc_aligned, labels=['False','True'], domain=dict(x=[0, 0.5])), row=1, col=3)\n",
    "fig.show()"
   ]
  },
  {
   "cell_type": "code",
   "execution_count": null,
   "metadata": {},
   "outputs": [],
   "source": [
    "fig = px.pie(database, names='spf_aligned', color='spf_aligned', color_discrete_map={'0':'gold', '1':'green'}, title='SPF Alignment')\n",
    "fig.update_layout(autosize=False, width=400, height=400)\n",
    "fig.show()"
   ]
  },
  {
   "cell_type": "code",
   "execution_count": null,
   "metadata": {},
   "outputs": [],
   "source": [
    "fig = px.pie(database, names='dkim_aligned', color='dkim_aligned', color_discrete_map={'0':'gold', '1':'green'}, title='DKIM Alignment')\n",
    "fig.update_layout(autosize=False, width=400, height=400)\n",
    "fig.show()"
   ]
  },
  {
   "cell_type": "code",
   "execution_count": null,
   "metadata": {},
   "outputs": [],
   "source": [
    "fig = px.pie(database, names='dmarc_aligned', color='dmarc_aligned', color_discrete_map={'0':'crimson', '1':'green'}, title='DMARC Alignment')\n",
    "fig.update_layout(autosize=False, width=400, height=400)\n",
    "fig.show()"
   ]
  },
  {
   "cell_type": "code",
   "execution_count": null,
   "metadata": {},
   "outputs": [],
   "source": [
    "database['day'] = database['begin_date'].str.slice(0, 10)\n",
    "database['spf_0_count'] = np.where(database['spf_aligned'] == '0', database['count'], 0)\n",
    "database['spf_1_count'] = np.where(database['spf_aligned'] == '1', database['count'], 0)\n",
    "database['dkim_0_count'] = np.where(database['dkim_aligned'] == '0', database['count'], 0)\n",
    "database['dkim_1_count'] = np.where(database['dkim_aligned'] == '1', database['count'], 0)\n",
    "database['dmarc_0_count'] = np.where(database['dmarc_aligned'] == '0', database['count'], 0)\n",
    "database['dmarc_1_count'] = np.where(database['dmarc_aligned'] == '1', database['count'], 0)"
   ]
  },
  {
   "cell_type": "code",
   "execution_count": null,
   "metadata": {},
   "outputs": [],
   "source": [
    "db_day = database[['spf_0_count','spf_1_count','dkim_0_count','dkim_1_count','dmarc_0_count','dmarc_1_count']].groupby(by=database['day']).sum()\n",
    "db_day.reset_index(inplace=True)"
   ]
  },
  {
   "cell_type": "code",
   "execution_count": null,
   "metadata": {},
   "outputs": [],
   "source": [
    "fig = go.Figure()\n",
    "fig.add_trace(go.Scatter(x=db_day['day'], y=db_day['spf_0_count'], line=dict(color='gold', width=2), name='fail'))\n",
    "fig.add_trace(go.Scatter(x=db_day['day'], y=db_day['spf_1_count'], line=dict(color='green', width=2), name='pass'))\n",
    "fig.update_layout(title='SPF Results Over Time')\n",
    "fig.show()"
   ]
  },
  {
   "cell_type": "code",
   "execution_count": null,
   "metadata": {},
   "outputs": [],
   "source": [
    "fig = go.Figure()\n",
    "fig.add_trace(go.Scatter(x=db_day['day'], y=db_day['dkim_0_count'], line=dict(color='gold', width=2), name='fail'))\n",
    "fig.add_trace(go.Scatter(x=db_day['day'], y=db_day['dkim_1_count'], line=dict(color='green', width=2), name='pass'))\n",
    "fig.update_layout(title='DKIM Results Over Time')\n",
    "fig.show()"
   ]
  },
  {
   "cell_type": "code",
   "execution_count": null,
   "metadata": {},
   "outputs": [],
   "source": [
    "fig = go.Figure()\n",
    "fig.add_trace(go.Scatter(x=db_day['day'], y=db_day['dmarc_0_count'], line=dict(color='crimson', width=2), name='fail'))\n",
    "fig.add_trace(go.Scatter(x=db_day['day'], y=db_day['dmarc_1_count'], line=dict(color='green', width=2), name='pass'))\n",
    "fig.update_layout(title='DMARC Results Over Time')\n",
    "fig.show()"
   ]
  },
  {
   "cell_type": "code",
   "execution_count": null,
   "metadata": {},
   "outputs": [],
   "source": [
    "countries = pd.read_csv('data/country-coord.csv')\n",
    "countries = countries[['Country', 'Alpha-2 code','Latitude (average)', 'Longitude (average)']]\n",
    "countries.rename(columns={'Country':'name', 'Alpha-2 code':'source_country', 'Latitude (average)':'lat', 'Longitude (average)':'long'}, inplace=True)"
   ]
  },
  {
   "cell_type": "code",
   "execution_count": null,
   "metadata": {},
   "outputs": [],
   "source": [
    "db_iso = database[['count']].groupby(by=database['source_country']).sum()\n",
    "db_iso.reset_index(inplace=True)\n",
    "db_iso = db_iso.merge(countries, on='source_country')\n",
    "db_iso['color'] = np.where(db_iso['count'] >= 500, 'crimson', np.where(db_iso['count'] >= 10, 'gold', 'green'))"
   ]
  },
  {
   "cell_type": "code",
   "execution_count": null,
   "metadata": {},
   "outputs": [],
   "source": [
    "m = folium.Map()\n",
    "\n",
    "db_iso.apply(lambda row:folium.CircleMarker(\n",
    "    location=[row['lat'], row['long']], radius=row['count'], popup=row['name'] + '\\n' + str(row['count']), fill=True, color=row['color'], fill_color=row['color']\n",
    ").add_to(m), axis=1)\n",
    "\n",
    "m"
   ]
  },
  {
   "cell_type": "code",
   "execution_count": null,
   "metadata": {},
   "outputs": [],
   "source": [
    "db_ip = database[['source_reverse_dns', 'source_base_domain', 'count']].groupby(by=database['source_ip_address']).aggregate({'source_reverse_dns':'first',\n",
    "                                                                                                                             'source_base_domain': 'first', 'count':'sum'})\n",
    "db_ip.sort_values(by='count', ascending=False)"
   ]
  }
 ],
 "metadata": {
  "kernelspec": {
   "display_name": "Python 3",
   "language": "python",
   "name": "python3"
  },
  "language_info": {
   "codemirror_mode": {
    "name": "ipython",
    "version": 3
   },
   "file_extension": ".py",
   "mimetype": "text/x-python",
   "name": "python",
   "nbconvert_exporter": "python",
   "pygments_lexer": "ipython3",
   "version": "3.11.2"
  },
  "orig_nbformat": 4
 },
 "nbformat": 4,
 "nbformat_minor": 2
}
